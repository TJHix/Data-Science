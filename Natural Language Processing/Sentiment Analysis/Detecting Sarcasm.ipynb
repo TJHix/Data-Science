{
 "cells": [
  {
   "cell_type": "markdown",
   "id": "c9c563c0",
   "metadata": {},
   "source": [
    "## Natural Language Processing\n",
    "TensorFlow zero to hero: https://www.youtube.com/watch?v=fNxaJsNG3-s&list=PLQY2H8rRoyvzDbLUZkbudP-MFQZwNmU4S\n",
    "### Tokenization\n",
    "Representing words in a way a computer can process them, so later a neural network can understand their meaning.\n",
    "\n",
    "Tokenization uses an encoding scheme to represent letters. However silent and listen have the same letters just a different order. \n",
    "\n",
    "We can instead encode words to show similarity between sentences."
   ]
  },
  {
   "cell_type": "code",
   "execution_count": 1,
   "id": "2a8edd19",
   "metadata": {},
   "outputs": [
    {
     "name": "stdout",
     "output_type": "stream",
     "text": [
      "{'love': 1, 'my': 2, 'i': 3, 'dog': 4, 'cat': 5, 'you': 6}\n"
     ]
    }
   ],
   "source": [
    "# import tokenizer API\n",
    "import tensorflow as tf\n",
    "from tensorflow import keras\n",
    "from tensorflow.keras.preprocessing.text import Tokenizer\n",
    "# represent sentences as array of strings\n",
    "sentences = [\n",
    "    'I love my dog',\n",
    "    'I love my cat',\n",
    "    'You love my dog!'\n",
    "]\n",
    "# create an instance onf tokenizer object\n",
    "tokenizer = Tokenizer(num_words = 100) # num_words is max number of words to keep\n",
    "tokenizer.fit_on_texts(sentences)\n",
    "word_index  = tokenizer.word_index\n",
    "print(word_index)"
   ]
  },
  {
   "cell_type": "markdown",
   "id": "b32d3a4e",
   "metadata": {},
   "source": [
    "After adding the third sentence where 'dog' is followed by'!', tokenizer is smart enought to catch some exceptions. It doesn't create a new token for 'dog!'. It recognizes an already existing token. Also creates a new token for the word 'you'.\n",
    "\n",
    "Now that words are recognized by a computer, we need to represent sentences as sequences of numbers _in the correct order_.\n",
    "\n",
    "### Sentences to Data\n",
    "Tokenizer has turned words into numeric tokens, build on this "
   ]
  },
  {
   "cell_type": "code",
   "execution_count": 2,
   "id": "be8fde05",
   "metadata": {},
   "outputs": [
    {
     "name": "stdout",
     "output_type": "stream",
     "text": [
      "{'my': 1, 'love': 2, 'dog': 3, 'i': 4, 'you': 5, 'cat': 6, 'do': 7, 'think': 8, 'is': 9, 'amazing': 10}\n",
      "[[4, 2, 1, 3], [4, 2, 1, 6], [5, 2, 1, 3], [7, 5, 8, 1, 3, 9, 10]]\n"
     ]
    }
   ],
   "source": [
    "sentences = [\n",
    "    'I love my dog',\n",
    "    'I love my cat',\n",
    "    'You love my dog!',\n",
    "    'Do you think my dog is amazing?'\n",
    "]\n",
    "\n",
    "tokenizer = Tokenizer(num_words = 100) # num_words is max number of words to keep\n",
    "tokenizer.fit_on_texts(sentences)\n",
    "word_index  = tokenizer.word_index\n",
    "\n",
    "# create sequence of tokens representing each sentence\n",
    "sequences = tokenizer.texts_to_sequences(sentences)\n",
    "\n",
    "\n",
    "print(word_index)\n",
    "print(sequences)"
   ]
  },
  {
   "cell_type": "markdown",
   "id": "a1dc243a",
   "metadata": {},
   "source": [
    "Returns dictionary as before with a few new words/tokens. Also returns an array of arrays containing the tokenizer sequence.\n",
    "\n",
    "Good for getting data ready for training data for a neural network. What if the nn receives words it has never seen before?\n",
    "\n",
    "Re-looking at code:\n",
    "- Have a set of sentences used for training a neural network\n",
    "- Tokenizer gets word index from these and creates sequences for us\n",
    "\n",
    "So now if we have words that aren't present in the word index, because they weren't present in the intial dataset."
   ]
  },
  {
   "cell_type": "code",
   "execution_count": 3,
   "id": "0b54fb82",
   "metadata": {},
   "outputs": [
    {
     "name": "stdout",
     "output_type": "stream",
     "text": [
      "[[4, 2, 1, 3], [1, 3, 1]]\n"
     ]
    }
   ],
   "source": [
    "test_data = [\n",
    "    'I really love my dog',\n",
    "    'My dog loves my manatee'\n",
    "]\n",
    "\n",
    "test_seq = tokenizer.texts_to_sequences(test_data)\n",
    "print(test_seq)\n"
   ]
  },
  {
   "cell_type": "markdown",
   "id": "f225027c",
   "metadata": {},
   "source": [
    "We return arrays shorter than the input words as we are missing tokens from our word index. Missing: 'really', 'loves' and 'manatee'.\n",
    "\n",
    "In order not to lose the length of the sequence, use the <font color=green>'OOV'</font> token property and set it to something you would not expect to see in the corpus. Tokenizer will replace words it does not recognize with this so we maintain sequence length.\n",
    "\n",
    "_(OOV stands for 'Out Of Vocabulary' Token)_\n",
    "\n",
    "Imagine using it as an arbitrary placeholder used for any word it doesn't recognize."
   ]
  },
  {
   "cell_type": "code",
   "execution_count": 4,
   "id": "42332996",
   "metadata": {},
   "outputs": [
    {
     "name": "stdout",
     "output_type": "stream",
     "text": [
      "[[5, 1, 3, 2, 4], [2, 4, 1, 2, 1]]\n"
     ]
    }
   ],
   "source": [
    "tokenizer = Tokenizer(num_words = 100, oov_token='<OOV>') # oov_token kwarg is where we set our placeholder\n",
    "tokenizer.fit_on_texts(sentences)\n",
    "word_index  = tokenizer.word_index\n",
    "\n",
    "# create sequence of tokens representing each sentence\n",
    "sequences = tokenizer.texts_to_sequences(sentences)\n",
    "\n",
    "test_seq = tokenizer.texts_to_sequences(test_data)\n",
    "\n",
    "print(test_seq)"
   ]
  },
  {
   "cell_type": "markdown",
   "id": "50fb96a5",
   "metadata": {},
   "source": [
    "We have still lost some meaning but at least our sentences are now the correct length. Here our OOV token is the number 1.\n",
    "\n",
    "How do we handle sentences of different length? (Image recognition usually uses images all of the same size)\n",
    "\n",
    "We can use a <font color=blue>Ragged Tensor</font> (advanced), here we will use <font color=blue>Padding</font>. We import pad_sequences form TF."
   ]
  },
  {
   "cell_type": "code",
   "execution_count": 5,
   "id": "398ce2f4",
   "metadata": {},
   "outputs": [
    {
     "name": "stdout",
     "output_type": "stream",
     "text": [
      "{'<OOV>': 1, 'my': 2, 'love': 3, 'dog': 4, 'i': 5, 'you': 6, 'cat': 7, 'do': 8, 'think': 9, 'is': 10, 'amazing': 11}\n",
      "[[5, 3, 2, 4], [5, 3, 2, 7], [6, 3, 2, 4], [8, 6, 9, 2, 4, 10, 11]]\n",
      "[[ 0  0  0  5  3  2  4]\n",
      " [ 0  0  0  5  3  2  7]\n",
      " [ 0  0  0  6  3  2  4]\n",
      " [ 8  6  9  2  4 10 11]]\n"
     ]
    }
   ],
   "source": [
    "from tensorflow.keras.preprocessing.sequence import pad_sequences\n",
    "\n",
    "sentences = [\n",
    "    'I love my dog',\n",
    "    'I love my cat',\n",
    "    'You love my dog!',\n",
    "    'Do you think my dog is amazing?'\n",
    "]\n",
    "\n",
    "\n",
    "tokenizer = Tokenizer(num_words = 100, oov_token='<OOV>') # oov_token kwarg is where we set our placeholder\n",
    "tokenizer.fit_on_texts(sentences)\n",
    "word_index  = tokenizer.word_index\n",
    "\n",
    "# create sequence of tokens representing each sentence\n",
    "sequences = tokenizer.texts_to_sequences(sentences)\n",
    "\n",
    "test_seq = tokenizer.texts_to_sequences(test_data)\n",
    "# simply pass sequences to pad_sequences\n",
    "padded = pad_sequences(sequences)\n",
    "\n",
    "print(word_index)\n",
    "print(sequences)\n",
    "print(padded)"
   ]
  },
  {
   "cell_type": "markdown",
   "id": "fffed89c",
   "metadata": {},
   "source": [
    "Padding precedes any sequence with sufficient 0's to that of the longest sequence length. Resulting in all sequences being of same length. \n",
    "\n",
    "Can pass _padding='post'_ into <font color=green>pad_sequences</font> kwarg's to place 0's succeding sequences. \n",
    "\n",
    "If don't want length of padded sentences to be length of longest sentence, _pass maxlen=' '_ to specify desired sequence length. \n",
    "\n",
    "If sentence longer than maxlen, can spass _truncate='post'_ to chop at end of sentence. \n",
    "\n",
    "Now we have Tokenized and Organized, we can take data and train a neural network with text data. Look at a dataset with sentences to classify if they are sarcastic or not.\n",
    "\n",
    "### Recognizing Sentiment\n",
    "Using a dataset of headlines where headline has been classified as saracastic or not.\n",
    "\n",
    "__Datset Context__:\n",
    " - __is_saracastic__: 1 if the record is sarcastic, otherwise 0 \n",
    " - __headline__: the headline of the news and article\n",
    " \n",
    "The data is in JSON format so we'll need to convert it to python format."
   ]
  },
  {
   "cell_type": "code",
   "execution_count": 6,
   "id": "0316d92e",
   "metadata": {},
   "outputs": [
    {
     "data": {
      "text/html": [
       "<div>\n",
       "<style scoped>\n",
       "    .dataframe tbody tr th:only-of-type {\n",
       "        vertical-align: middle;\n",
       "    }\n",
       "\n",
       "    .dataframe tbody tr th {\n",
       "        vertical-align: top;\n",
       "    }\n",
       "\n",
       "    .dataframe thead th {\n",
       "        text-align: right;\n",
       "    }\n",
       "</style>\n",
       "<table border=\"1\" class=\"dataframe\">\n",
       "  <thead>\n",
       "    <tr style=\"text-align: right;\">\n",
       "      <th></th>\n",
       "      <th>is_sarcastic</th>\n",
       "      <th>headline</th>\n",
       "      <th>article_link</th>\n",
       "    </tr>\n",
       "  </thead>\n",
       "  <tbody>\n",
       "    <tr>\n",
       "      <th>0</th>\n",
       "      <td>1</td>\n",
       "      <td>thirtysomething scientists unveil doomsday clo...</td>\n",
       "      <td>https://www.theonion.com/thirtysomething-scien...</td>\n",
       "    </tr>\n",
       "    <tr>\n",
       "      <th>1</th>\n",
       "      <td>0</td>\n",
       "      <td>dem rep. totally nails why congress is falling...</td>\n",
       "      <td>https://www.huffingtonpost.com/entry/donna-edw...</td>\n",
       "    </tr>\n",
       "    <tr>\n",
       "      <th>2</th>\n",
       "      <td>0</td>\n",
       "      <td>eat your veggies: 9 deliciously different recipes</td>\n",
       "      <td>https://www.huffingtonpost.com/entry/eat-your-...</td>\n",
       "    </tr>\n",
       "  </tbody>\n",
       "</table>\n",
       "</div>"
      ],
      "text/plain": [
       "   is_sarcastic                                           headline  \\\n",
       "0             1  thirtysomething scientists unveil doomsday clo...   \n",
       "1             0  dem rep. totally nails why congress is falling...   \n",
       "2             0  eat your veggies: 9 deliciously different recipes   \n",
       "\n",
       "                                        article_link  \n",
       "0  https://www.theonion.com/thirtysomething-scien...  \n",
       "1  https://www.huffingtonpost.com/entry/donna-edw...  \n",
       "2  https://www.huffingtonpost.com/entry/eat-your-...  "
      ]
     },
     "execution_count": 6,
     "metadata": {},
     "output_type": "execute_result"
    }
   ],
   "source": [
    "import pandas as pd\n",
    "data = pd.read_json('..\\Documents\\GitHub\\Sarcasm_Headlines_Dataset_V2.json', lines=True)\n",
    "\n",
    "data.head(3)"
   ]
  },
  {
   "cell_type": "code",
   "execution_count": 7,
   "id": "585489cb",
   "metadata": {},
   "outputs": [],
   "source": [
    "import json\n",
    "\n",
    "def parse_data(file):\n",
    "    for l in open(file,'r'):\n",
    "        yield json.loads(l)\n",
    "#parsing json data into lists\n",
    "data = list(parse_data('..\\Documents\\GitHub\\Sarcasm_Headlines_Dataset.json'))\n",
    "#create new arrays for use in NLP\n",
    "sentences = []\n",
    "labels = []\n",
    "urls = []\n",
    "for item in data:\n",
    "    sentences.append(item['headline'])\n",
    "    labels.append(item['is_sarcastic'])\n",
    "    urls.append(item['article_link'])"
   ]
  },
  {
   "cell_type": "markdown",
   "id": "4b5893d3",
   "metadata": {},
   "source": [
    "Now we have our lists, we can now go through our natural language preprocessing again."
   ]
  },
  {
   "cell_type": "code",
   "execution_count": 8,
   "id": "db251222",
   "metadata": {},
   "outputs": [
    {
     "name": "stdout",
     "output_type": "stream",
     "text": [
      "[  308 15115   679  3337  2298    48   382  2576 15116     6  2577  8434\n",
      "     0     0     0     0     0     0     0     0     0     0     0     0\n",
      "     0     0     0     0     0     0     0     0     0     0     0     0\n",
      "     0     0     0     0]\n",
      "(26709, 40)\n",
      "26709\n",
      "29657\n"
     ]
    }
   ],
   "source": [
    "#from tensorflow.keras.preprocessing.text import Tokenizer\n",
    "#from tensorflow.keras.preprocessing.sequence import pad_sequences\n",
    "\n",
    "tokenizer = Tokenizer(oov_token='<OOV>')\n",
    "tokenizer.fit_on_texts(sentences) #create token for every word in corpus\n",
    "word_index  = tokenizer.word_index #see tokens in the word index\n",
    "\n",
    "sequences = tokenizer.texts_to_sequences(sentences)\n",
    "padded = pad_sequences(sequences,maxlen=40,padding='post')\n",
    "\n",
    "#inspecting\n",
    "print(padded[0])\n",
    "print(padded.shape)\n",
    "print(len(sequences))\n",
    "print(len(word_index))"
   ]
  },
  {
   "cell_type": "markdown",
   "id": "dea34a49",
   "metadata": {},
   "source": [
    "First array is an example of a sequence, note the truncated zeros are succeding the tokens that are present.\n",
    "\n",
    "Second array shows shape of padded array, that is 26709 sequences each with 40 tokens (most of the tokens are zero due to truncating).\n",
    "\n",
    "Last two inspections just to check we have more words than sequences of words.\n",
    "\n",
    "### Splitting the Data\n",
    "We currently don't have a training:test data split, we will split them using a slice. Here we use our training size as 20,000."
   ]
  },
  {
   "cell_type": "code",
   "execution_count": 9,
   "id": "ace7fd82",
   "metadata": {},
   "outputs": [],
   "source": [
    "training_size = 20000\n",
    "\n",
    "#slice data\n",
    "training_sentences = sentences[0:training_size]\n",
    "testing_sentences = sentences[training_size:]\n",
    "training_labels = labels[0:training_size]\n",
    "testing_labels = labels[training_size:]"
   ]
  },
  {
   "cell_type": "markdown",
   "id": "010b44c0",
   "metadata": {},
   "source": [
    "### Tokenizing\n",
    "We have used a tokenizer to create a token for every word in the corpus. we will use this tokenizer again.\n",
    "\n",
    "We also need to make sure the neural net only sees the training and never sees the test data. To do this we create a padded training set and a padded testing set."
   ]
  },
  {
   "cell_type": "code",
   "execution_count": 10,
   "id": "55f07a77",
   "metadata": {},
   "outputs": [],
   "source": [
    "#instantiate a tokenizer\n",
    "vocab_size = 29657\n",
    "tokenizer = Tokenizer(num_words=vocab_size,oov_token='<OOV>')\n",
    "#fit tokenizer on just training sentences\n",
    "tokenizer.fit_on_texts(training_sentences)\n",
    "\n",
    "word_index = tokenizer.word_index\n",
    "\n",
    "#create a set of training sequences\n",
    "training_sequences = tokenizer.texts_to_sequences(training_sentences)\n",
    "training_padded = pad_sequences(training_sequences,maxlen=40)\n",
    "\n",
    "#create a set of test sequences\n",
    "testing_sequences = tokenizer.texts_to_sequences(testing_sentences)\n",
    "testing_padded = pad_sequences(testing_sequences,maxlen=40)"
   ]
  },
  {
   "cell_type": "markdown",
   "id": "12bf7d39",
   "metadata": {},
   "source": [
    "<font color=red>NOTE!</font> Length of test and training must have the same shape when in the model, hence maxlen arg set to the same value."
   ]
  },
  {
   "cell_type": "markdown",
   "id": "ffeb9a6a",
   "metadata": {},
   "source": [
    "Cell below is so code works with TensorFlow 2.x"
   ]
  },
  {
   "cell_type": "code",
   "execution_count": 11,
   "id": "5f44a172",
   "metadata": {},
   "outputs": [],
   "source": [
    "import numpy as np\n",
    "training_padded = np.array(training_padded)\n",
    "training_labels = np.array(training_labels)\n",
    "testing_padded = np.array(testing_padded)\n",
    "testing_labels = np.array(testing_labels)"
   ]
  },
  {
   "cell_type": "markdown",
   "id": "37cd2728",
   "metadata": {},
   "source": [
    "Cell below is where I investigated and figured out my training and test shapes were different. This would be due to the split where the maxlen of a sequence in the test split was 38, whereas the maxlen in train split was 40."
   ]
  },
  {
   "cell_type": "code",
   "execution_count": 12,
   "id": "776a5df9",
   "metadata": {
    "scrolled": true
   },
   "outputs": [
    {
     "name": "stdout",
     "output_type": "stream",
     "text": [
      "(6709, 40)\n",
      "(20000, 40)\n"
     ]
    }
   ],
   "source": [
    "print(testing_padded.shape)\n",
    "print(training_padded.shape)"
   ]
  },
  {
   "cell_type": "markdown",
   "id": "5df897c3",
   "metadata": {},
   "source": [
    "### Semantic to Syntactic\n",
    "Turned sentences to numbers, with numbers being tokens representing words. How do we get meaning? How to determine if sarcastic just from these numbers?\n",
    "\n",
    "Consider basic sentiment: good and bad. Can plot both of these as opposites. Can then determine good or bad sentiment as coordinates in the x and y. E.g: Good [1,0] Bad [-1,0]\n",
    "\n",
    "By looking at the direction of the vector we can start to determine the meaning of the word.\n",
    "\n",
    "If we extend into multiples dimensions, plot sarcastic and not sarcastic. As we train we can see how vectors of the sentences point in certain directions. This is called embedding, by summing vectors of different sentiments we can find where they lie in thes multidimensional plots.\n",
    "\n",
    "Coding this. First declare global variables:"
   ]
  },
  {
   "cell_type": "code",
   "execution_count": 13,
   "id": "c3578a87",
   "metadata": {},
   "outputs": [],
   "source": [
    "vocab_size = 29657\n",
    "embedding_dim = 16\n",
    "max_length = 40\n",
    "trunc_type='post'\n",
    "padding_type='post'\n",
    "oov_tok = \"<OOV>\"\n",
    "training_size = 20000"
   ]
  },
  {
   "cell_type": "markdown",
   "id": "d9e54a9b",
   "metadata": {},
   "source": [
    "Build the neural network as a sequential model using tensorflow keras layers."
   ]
  },
  {
   "cell_type": "code",
   "execution_count": 14,
   "id": "c2e3a3f1",
   "metadata": {},
   "outputs": [],
   "source": [
    "model = tf.keras.Sequential([\n",
    "    #first layer is embedding, direction of each word learned on epoch\n",
    "    tf.keras.layers.Embedding(vocab_size, embedding_dim,input_length=max_length),\n",
    "    tf.keras.Input(shape=(16,)),\n",
    "    #pool by global average (add up vectors)\n",
    "    tf.keras.layers.GlobalAveragePooling1D(keepdims=False),\n",
    "    #fed into common deep nn\n",
    "    tf.keras.layers.Dense(24, activation='relu'),\n",
    "    tf.keras.layers.Dense(1, activation='sigmoid')\n",
    "])\n",
    "model.compile(loss='binary_crossentropy',optimizer='adam',metrics=['accuracy'])"
   ]
  },
  {
   "cell_type": "markdown",
   "id": "6bdb4688",
   "metadata": {},
   "source": [
    "The idea of this network is to take the already given: sarcastic/not sarcastic metric. And use that to define the sentiment for the individual words that make up the sentence. We keep doing this and the vectors for each word in the corpus keep changing until they converge on a stable point or our epoch's end."
   ]
  },
  {
   "cell_type": "markdown",
   "id": "65954488",
   "metadata": {},
   "source": [
    "Checking our model is as required:"
   ]
  },
  {
   "cell_type": "code",
   "execution_count": 15,
   "id": "433080ce",
   "metadata": {
    "scrolled": false
   },
   "outputs": [
    {
     "name": "stdout",
     "output_type": "stream",
     "text": [
      "Model: \"sequential\"\n",
      "_________________________________________________________________\n",
      " Layer (type)                Output Shape              Param #   \n",
      "=================================================================\n",
      " embedding (Embedding)       (None, 40, 16)            474512    \n",
      "                                                                 \n",
      " input_1 (InputLayer)        multiple                  0         \n",
      "                                                                 \n",
      " global_average_pooling1d (G  (None, 16)               0         \n",
      " lobalAveragePooling1D)                                          \n",
      "                                                                 \n",
      " dense (Dense)               (None, 24)                408       \n",
      "                                                                 \n",
      " dense_1 (Dense)             (None, 1)                 25        \n",
      "                                                                 \n",
      "=================================================================\n",
      "Total params: 474,945\n",
      "Trainable params: 474,945\n",
      "Non-trainable params: 0\n",
      "_________________________________________________________________\n"
     ]
    }
   ],
   "source": [
    "model.summary()"
   ]
  },
  {
   "cell_type": "markdown",
   "id": "fe04cb29",
   "metadata": {},
   "source": [
    "Running the model:"
   ]
  },
  {
   "cell_type": "code",
   "execution_count": 16,
   "id": "4a557d60",
   "metadata": {
    "scrolled": true
   },
   "outputs": [
    {
     "name": "stdout",
     "output_type": "stream",
     "text": [
      "Epoch 1/15\n",
      "625/625 [==============================] - 11s 14ms/step - loss: 0.6178 - accuracy: 0.6629 - val_loss: 0.4680 - val_accuracy: 0.8264\n",
      "Epoch 2/15\n",
      "625/625 [==============================] - 8s 13ms/step - loss: 0.3528 - accuracy: 0.8641 - val_loss: 0.3602 - val_accuracy: 0.8422\n",
      "Epoch 3/15\n",
      "625/625 [==============================] - 8s 13ms/step - loss: 0.2452 - accuracy: 0.9069 - val_loss: 0.3329 - val_accuracy: 0.8571\n",
      "Epoch 4/15\n",
      "625/625 [==============================] - 8s 13ms/step - loss: 0.1808 - accuracy: 0.9355 - val_loss: 0.3342 - val_accuracy: 0.8606\n",
      "Epoch 5/15\n",
      "625/625 [==============================] - 8s 14ms/step - loss: 0.1351 - accuracy: 0.9544 - val_loss: 0.3507 - val_accuracy: 0.8574\n",
      "Epoch 6/15\n",
      "625/625 [==============================] - 8s 13ms/step - loss: 0.1013 - accuracy: 0.9686 - val_loss: 0.3778 - val_accuracy: 0.8530\n",
      "Epoch 7/15\n",
      "625/625 [==============================] - 8s 13ms/step - loss: 0.0759 - accuracy: 0.9782 - val_loss: 0.4022 - val_accuracy: 0.8532\n",
      "Epoch 8/15\n",
      "625/625 [==============================] - 8s 13ms/step - loss: 0.0560 - accuracy: 0.9845 - val_loss: 0.4638 - val_accuracy: 0.8413\n",
      "Epoch 9/15\n",
      "625/625 [==============================] - 8s 13ms/step - loss: 0.0417 - accuracy: 0.9894 - val_loss: 0.4756 - val_accuracy: 0.8468\n",
      "Epoch 10/15\n",
      "625/625 [==============================] - 8s 13ms/step - loss: 0.0306 - accuracy: 0.9934 - val_loss: 0.5170 - val_accuracy: 0.8432\n",
      "Epoch 11/15\n",
      "625/625 [==============================] - 8s 13ms/step - loss: 0.0229 - accuracy: 0.9958 - val_loss: 0.5571 - val_accuracy: 0.8390\n",
      "Epoch 12/15\n",
      "625/625 [==============================] - 8s 13ms/step - loss: 0.0167 - accuracy: 0.9974 - val_loss: 0.6086 - val_accuracy: 0.8371\n",
      "Epoch 13/15\n",
      "625/625 [==============================] - 8s 13ms/step - loss: 0.0121 - accuracy: 0.9981 - val_loss: 0.6535 - val_accuracy: 0.8341\n",
      "Epoch 14/15\n",
      "625/625 [==============================] - 8s 13ms/step - loss: 0.0091 - accuracy: 0.9985 - val_loss: 0.6979 - val_accuracy: 0.8298\n",
      "Epoch 15/15\n",
      "625/625 [==============================] - 8s 13ms/step - loss: 0.0068 - accuracy: 0.9991 - val_loss: 0.7443 - val_accuracy: 0.8298\n"
     ]
    }
   ],
   "source": [
    "num_epochs = 15\n",
    "history = model.fit(training_padded, \n",
    "          training_labels,\n",
    "          batch_size=None,#will default to int 32 otherwise\n",
    "          epochs=num_epochs, \n",
    "          validation_data=(testing_padded, testing_labels)\n",
    "          )"
   ]
  },
  {
   "cell_type": "markdown",
   "id": "85cab372",
   "metadata": {},
   "source": [
    "First accuracy is accuracy fitting sentiment to training data which (after 30 epochs) is understandably at 100%. Second accuracy is the one we care about; predictions on the test data (sequences it hasn't seen before). This reached 81%.\n",
    "\n",
    "Now we have generated a corpus with embedded words, we can use our vector semantics to predict the overall semantic of a new sentence. \n",
    "### Establish Sentiment in New Sentences\n",
    "\n",
    "Using two new sentences to test our tokenizer:"
   ]
  },
  {
   "cell_type": "code",
   "execution_count": 17,
   "id": "a7f9bad9",
   "metadata": {},
   "outputs": [
    {
     "name": "stdout",
     "output_type": "stream",
     "text": [
      "1/1 [==============================] - 0s 275ms/step\n",
      "[[7.446103e-01]\n",
      " [6.094066e-04]]\n"
     ]
    }
   ],
   "source": [
    "sentence_new = [\n",
    "    'granny starting to fear spiders in the garden might be real',\n",
    "    'the weather today is bright and sunny'\n",
    "]\n",
    "\n",
    "sequences_new = tokenizer.texts_to_sequences(sentence_new)\n",
    "\n",
    "padded_new = pad_sequences(sequences_new, maxlen=40,\n",
    "                       padding='post',\n",
    "                      )\n",
    "\n",
    "print(model.predict(padded_new))"
   ]
  },
  {
   "cell_type": "markdown",
   "id": "54a43663",
   "metadata": {},
   "source": [
    "First shows a value of 0.91 which is very close to 1, indicating a high probability of sarcasm. Second shows a value of 0.0000038 indicating a very low probability of sarcasm.\n",
    "\n",
    "#### Visualising"
   ]
  },
  {
   "cell_type": "code",
   "execution_count": 18,
   "id": "baf20449",
   "metadata": {},
   "outputs": [
    {
     "data": {
      "image/png": "[encoded data removed]",
      "text/plain": [
       "<Figure size 432x288 with 1 Axes>"
      ]
     },
     "metadata": {
      "needs_background": "light"
     },
     "output_type": "display_data"
    },
    {
     "data": {
      "image/png": "[encoded data removed]",
      "text/plain": [
       "<Figure size 432x288 with 1 Axes>"
      ]
     },
     "metadata": {
      "needs_background": "light"
     },
     "output_type": "display_data"
    }
   ],
   "source": [
    "import matplotlib.pyplot as plt\n",
    "\n",
    "\n",
    "def plot_graphs(history, string):\n",
    "  plt.plot(history.history[string])\n",
    "  plt.plot(history.history['val_'+string])\n",
    "  plt.xlabel(\"Epochs\")\n",
    "  plt.ylabel(string)\n",
    "  plt.legend([string, 'val_'+string])\n",
    "  plt.show()\n",
    "  \n",
    "plot_graphs(history, \"accuracy\")\n",
    "plot_graphs(history, \"loss\")"
   ]
  },
  {
   "cell_type": "markdown",
   "id": "8b4fe823",
   "metadata": {},
   "source": [
    "### Summary\n",
    "- __Tokenization__: Encoding words (instead of letters) to be represented as numbers. Allows computer to understand the input.\n",
    "- __Sequencing__: Returns sentence as a sequence of the tokens representing those words.\n",
    "- __Out Of Vocabulary Token__: 'OOV' token replaces words it doesn't expect to see with the designated OOV token into the corpus.\n",
    "- __Padding__: Precedes/Succedes any sequence with sufficient 0's to match that of the longest sequence in the corpus. Results in all inputs being of the same length\n",
    "\n",
    "__Semantic Analysis__\n",
    "- __Embedding__: Generate embeddings for our corpus. Done through a sequential Neural Network.\n",
    "- __Establish New Sentiment__: Use our corpus to predict sentiment of a new sentence."
   ]
  }
 ],
 "metadata": {
  "kernelspec": {
   "display_name": "Python 3 (ipykernel)",
   "language": "python",
   "name": "python3"
  },
  "language_info": {
   "codemirror_mode": {
    "name": "ipython",
    "version": 3
   },
   "file_extension": ".py",
   "mimetype": "text/x-python",
   "name": "python",
   "nbconvert_exporter": "python",
   "pygments_lexer": "ipython3",
   "version": "3.9.12"
  }
 },
 "nbformat": 4,
 "nbformat_minor": 5
}
