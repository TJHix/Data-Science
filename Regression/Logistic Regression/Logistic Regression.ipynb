{
 "cells": [
  {
   "cell_type": "markdown",
   "id": "88fdee6b",
   "metadata": {},
   "source": [
    "### Logistic Regression\n",
    "#### Introduction\n",
    "_Logistic Regression_ is a statistical model (sometimes called a logit model) used for classification and predictive analysis. This type of regression estimates the probability of an event occuring, resulting in a discrete output. This is usually binary, for example: vote or didn't vote, is diabetic or is not diabetic. This is unlike linear regression where we have a continuous output.\n",
    "\n",
    "Linear Regression assumes there is a linear relationship between one or more variables and aims to fit a line that best describes this relationship. Logistic Regression is used to classify elements of a set into two groups (binary classification), this is used when the dependent variable has a binary solution.\n",
    "#### Theory\n",
    "For a discrete output we can classify using binary classification or multi-class classification. Binary classification would predict if a person did or did not vote (output: yes, no). Multi-class classification would predict which party they voted for (output: conservative, labour, liberal democrat).\n",
    "\n",
    "For binary classification we classify an element into a group by setting a probability threshold. If the probability of an element is higher or lower than this threshold then it is assigned to one of the two classes. The steps of Logistic Regression are as follows:\n",
    "\n",
    "__Step 1__: Determine the best fitted line using _Linear_ Regression. This is highly susceptible to outliers and will not serve well for binary classification.\n",
    "\n",
    "__Step 2__: The predicted values are converted to probabilites by feeding them into a sigmoid function. This will return any real number between values of $0$ and $1$:\n",
    "$$\n",
    "S(x)=\\frac{1}{1+e^-x}\n",
    "$$"
   ]
  },
  {
   "cell_type": "code",
   "execution_count": 21,
   "id": "ff95e869",
   "metadata": {},
   "outputs": [
    {
     "data": {
      "text/plain": [
       "Text(0.5, 1.0, 'Sigmoid Function')"
      ]
     },
     "execution_count": 21,
     "metadata": {},
     "output_type": "execute_result"
    },
    {
     "data": {
      "image/png": "[encoded data removed]",
      "text/plain": [
       "<Figure size 432x288 with 1 Axes>"
      ]
     },
     "metadata": {
      "needs_background": "light"
     },
     "output_type": "display_data"
    }
   ],
   "source": [
    "import numpy as np\n",
    "import matplotlib.pyplot as plt\n",
    "\n",
    "# define sigmoid function\n",
    "def sigmoid(x):\n",
    "    return 1/(1+np.exp(-x))\n",
    "\n",
    "# range of arbitrary x values\n",
    "x = np.arange(-6,6,.1)\n",
    "\n",
    "# set figure as desired\n",
    "fig = plt.figure()\n",
    "ax = fig.add_subplot(1, 1, 1)\n",
    "ax.spines['left'].set_position(('axes',0.5))\n",
    "ax.spines['bottom'].set_position(('axes',0.5))\n",
    "ax.spines['right'].set_color('none')\n",
    "ax.spines['top'].set_color('none')\n",
    "\n",
    "# plot function\n",
    "plt.grid()\n",
    "plt.plot(x,sigmoid(x), c='red')\n",
    "plt.title('Sigmoid Function')"
   ]
  },
  {
   "cell_type": "markdown",
   "id": "48e39246",
   "metadata": {},
   "source": [
    "__Step 3__: Binary Classification - These values are then converted to either $0$ or $1$ based on our probability threshold value. This is usually around $0.5$."
   ]
  },
  {
   "cell_type": "markdown",
   "id": "64fc6743",
   "metadata": {},
   "source": [
    "### Implementation\n",
    "#### Insurance Dataset\n",
    "We will now implement this using an insurance dataset. The data contains the ages of customers and if they did or didnt purchase insurance."
   ]
  },
  {
   "cell_type": "code",
   "execution_count": 27,
   "id": "3e88ff21",
   "metadata": {},
   "outputs": [
    {
     "data": {
      "text/html": [
       "<div>\n",
       "<style scoped>\n",
       "    .dataframe tbody tr th:only-of-type {\n",
       "        vertical-align: middle;\n",
       "    }\n",
       "\n",
       "    .dataframe tbody tr th {\n",
       "        vertical-align: top;\n",
       "    }\n",
       "\n",
       "    .dataframe thead th {\n",
       "        text-align: right;\n",
       "    }\n",
       "</style>\n",
       "<table border=\"1\" class=\"dataframe\">\n",
       "  <thead>\n",
       "    <tr style=\"text-align: right;\">\n",
       "      <th></th>\n",
       "      <th>age</th>\n",
       "      <th>bought_insurance</th>\n",
       "    </tr>\n",
       "  </thead>\n",
       "  <tbody>\n",
       "    <tr>\n",
       "      <th>0</th>\n",
       "      <td>22</td>\n",
       "      <td>0</td>\n",
       "    </tr>\n",
       "    <tr>\n",
       "      <th>1</th>\n",
       "      <td>25</td>\n",
       "      <td>0</td>\n",
       "    </tr>\n",
       "    <tr>\n",
       "      <th>2</th>\n",
       "      <td>47</td>\n",
       "      <td>1</td>\n",
       "    </tr>\n",
       "  </tbody>\n",
       "</table>\n",
       "</div>"
      ],
      "text/plain": [
       "   age  bought_insurance\n",
       "0   22                 0\n",
       "1   25                 0\n",
       "2   47                 1"
      ]
     },
     "execution_count": 27,
     "metadata": {},
     "output_type": "execute_result"
    }
   ],
   "source": [
    "import pandas as pd\n",
    "\n",
    "data = pd.read_csv(\"../downloads/insurance_data.csv\")\n",
    "data.head(3)"
   ]
  },
  {
   "cell_type": "markdown",
   "id": "1a75ab78",
   "metadata": {},
   "source": [
    "We can see the data is stored as $0$ or $1$, $0$ indicating they did not purchase and $1$ indicating they did purchase. Plotting a simple scatter to show us any general trends:"
   ]
  },
  {
   "cell_type": "code",
   "execution_count": 28,
   "id": "eb129a5a",
   "metadata": {},
   "outputs": [
    {
     "data": {
      "text/plain": [
       "Text(0, 0.5, 'Bought Insurance')"
      ]
     },
     "execution_count": 28,
     "metadata": {},
     "output_type": "execute_result"
    },
    {
     "data": {
      "image/png": "[encoded data removed]",
      "text/plain": [
       "<Figure size 432x288 with 1 Axes>"
      ]
     },
     "metadata": {
      "needs_background": "light"
     },
     "output_type": "display_data"
    }
   ],
   "source": [
    "# plot data points\n",
    "plt.scatter(data.age,data.bought_insurance,marker='+',color='red')\n",
    "plt.xlabel('Age')\n",
    "plt.ylabel('Bought Insurance')"
   ]
  },
  {
   "cell_type": "markdown",
   "id": "fbbd99c8",
   "metadata": {},
   "source": [
    "We can see that younger customers are less likely to purchase. Now we can apply a model from sklearn."
   ]
  },
  {
   "cell_type": "code",
   "execution_count": 35,
   "id": "5ff317c3",
   "metadata": {},
   "outputs": [],
   "source": [
    "# split the data into training and test data\n",
    "from sklearn.model_selection import train_test_split\n",
    "X_train, X_test, Y_train, y_test = train_test_split(data[['age']],data.bought_insurance,train_size=0.9,test_size=0.1)"
   ]
  },
  {
   "cell_type": "code",
   "execution_count": 36,
   "id": "999de7e8",
   "metadata": {},
   "outputs": [
    {
     "data": {
      "text/plain": [
       "LogisticRegression()"
      ]
     },
     "execution_count": 36,
     "metadata": {},
     "output_type": "execute_result"
    }
   ],
   "source": [
    "# import logistic regression\n",
    "from sklearn.linear_model import LogisticRegression\n",
    "# define the model then fit it with the training data\n",
    "model = LogisticRegression()\n",
    "model.fit(X_train, Y_train)"
   ]
  },
  {
   "cell_type": "code",
   "execution_count": 37,
   "id": "c5c0ead9",
   "metadata": {},
   "outputs": [
    {
     "data": {
      "text/plain": [
       "array([0, 0, 1], dtype=int64)"
      ]
     },
     "execution_count": 37,
     "metadata": {},
     "output_type": "execute_result"
    }
   ],
   "source": [
    "# run a prediction\n",
    "model.predict(X_test)"
   ]
  },
  {
   "cell_type": "code",
   "execution_count": 39,
   "id": "3018ce7a",
   "metadata": {},
   "outputs": [
    {
     "data": {
      "text/plain": [
       "0.6666666666666666"
      ]
     },
     "execution_count": 39,
     "metadata": {},
     "output_type": "execute_result"
    }
   ],
   "source": [
    "# run accuracy on prediction\n",
    "model.score(X_test,y_test)"
   ]
  },
  {
   "cell_type": "markdown",
   "id": "1d9ed188",
   "metadata": {},
   "source": [
    "We have a small data set so here one of the predictions was wrong."
   ]
  }
 ],
 "metadata": {
  "kernelspec": {
   "display_name": "Python 3 (ipykernel)",
   "language": "python",
   "name": "python3"
  },
  "language_info": {
   "codemirror_mode": {
    "name": "ipython",
    "version": 3
   },
   "file_extension": ".py",
   "mimetype": "text/x-python",
   "name": "python",
   "nbconvert_exporter": "python",
   "pygments_lexer": "ipython3",
   "version": "3.9.12"
  }
 },
 "nbformat": 4,
 "nbformat_minor": 5
}
